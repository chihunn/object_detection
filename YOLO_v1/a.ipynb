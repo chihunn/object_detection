{
 "cells": [
  {
   "cell_type": "code",
   "execution_count": 1,
   "metadata": {},
   "outputs": [],
   "source": [
    "import torch\n",
    "import torch.nn as nn"
   ]
  },
  {
   "cell_type": "code",
   "execution_count": 16,
   "metadata": {},
   "outputs": [
    {
     "name": "stdout",
     "output_type": "stream",
     "text": [
      "tensor([[0.1414, 0.8267, 0.6960, 0.0569],\n",
      "        [0.9883, 0.9969, 0.8449, 0.0186]])\n",
      "tensor([0.9883, 0.9969, 0.8449, 0.0569])\n",
      "tensor([1, 1, 1, 0])\n"
     ]
    }
   ],
   "source": [
    "ious = torch.rand(2 , 4)\n",
    "a,b = torch.max(ious, dim = 0)\n",
    "print(ious)\n",
    "print (a)\n",
    "print(b)"
   ]
  }
 ],
 "metadata": {
  "kernelspec": {
   "display_name": "yolo_retry_kernel",
   "language": "python",
   "name": "yolo_retry"
  },
  "language_info": {
   "codemirror_mode": {
    "name": "ipython",
    "version": 3
   },
   "file_extension": ".py",
   "mimetype": "text/x-python",
   "name": "python",
   "nbconvert_exporter": "python",
   "pygments_lexer": "ipython3",
   "version": "3.9.16"
  }
 },
 "nbformat": 4,
 "nbformat_minor": 2
}
